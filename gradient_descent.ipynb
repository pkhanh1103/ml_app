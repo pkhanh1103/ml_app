{
 "cells": [
  {
   "cell_type": "code",
   "execution_count": 2,
   "metadata": {},
   "outputs": [],
   "source": [
    "import math\n",
    "import numpy as np\n",
    "import matplotlib.pyplot as plt"
   ]
  },
  {
   "cell_type": "code",
   "execution_count": 3,
   "metadata": {},
   "outputs": [],
   "source": [
    "def grad(x):\n",
    "    return 6*x + 2 + 4*np.cos(x)\n",
    "\n",
    "def cost(x):\n",
    "    return 3*x**2 + 2*x + 4*np.sin(x)\n",
    "\n",
    "def myGD1(eta, x0):\n",
    "    x = [x0]\n",
    "    for it in range(100):\n",
    "        x_new = x[-1] - eta*grad(x[-1])\n",
    "        if abs(grad(x_new)) < 1e-3:\n",
    "            break\n",
    "        x.append(x_new)\n",
    "    return (x, it)"
   ]
  },
  {
   "cell_type": "code",
   "execution_count": 5,
   "metadata": {},
   "outputs": [
    {
     "name": "stdout",
     "output_type": "stream",
     "text": [
      "eta = 0.10, x0 = -5.00, x = -0.799186, cost = -2.549432, after 4\n",
      "eta = 0.10, x0 = +5.00, x = -0.798373, cost = -2.549434, after 7\n",
      "eta = 0.01, x0 = -1.00, x = -0.798630, cost = -2.549434, after 80\n"
     ]
    }
   ],
   "source": [
    "for (eta, x0) in [(.1, -5), (.1, 5), (.01, -1)]:\n",
    "    (x, it) = myGD1(eta, x0)\n",
    "    print('eta = %.2f, x0 = %+.2f, x = %f, cost = %f, after %d'%(eta, x0, x[-1], cost(x[-1]), it))"
   ]
  }
 ],
 "metadata": {
  "kernelspec": {
   "display_name": "base",
   "language": "python",
   "name": "python3"
  },
  "language_info": {
   "codemirror_mode": {
    "name": "ipython",
    "version": 3
   },
   "file_extension": ".py",
   "mimetype": "text/x-python",
   "name": "python",
   "nbconvert_exporter": "python",
   "pygments_lexer": "ipython3",
   "version": "3.12.3"
  }
 },
 "nbformat": 4,
 "nbformat_minor": 2
}
