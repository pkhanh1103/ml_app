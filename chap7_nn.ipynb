{
 "cells": [
  {
   "cell_type": "code",
   "execution_count": 1,
   "metadata": {},
   "outputs": [],
   "source": [
    "import numpy as np"
   ]
  },
  {
   "cell_type": "markdown",
   "metadata": {},
   "source": [
    "## Gates"
   ]
  },
  {
   "cell_type": "code",
   "execution_count": 2,
   "metadata": {},
   "outputs": [],
   "source": [
    "class AddGate:\n",
    "    def __init__(self):\n",
    "        self.x = None\n",
    "        self.y = None\n",
    "\n",
    "    def forward(self, x, y):\n",
    "        self.x = x\n",
    "        self.y = y\n",
    "        return x + y\n",
    "    \n",
    "    def backward(self, d_out):\n",
    "        return d_out, d_out\n",
    "    \n",
    "class MultiplyGate:\n",
    "    def __init__(self):\n",
    "        self.x = None\n",
    "        self.y = None\n",
    "    \n",
    "    def forward(self, x, y):\n",
    "        self.x = x\n",
    "        self.y = y\n",
    "        return x * y\n",
    "    \n",
    "    def backward(self, d_out):\n",
    "        dx = d_out * self.y\n",
    "        dy = d_out * self.x\n",
    "        return dx, dy\n",
    "    \n",
    "class PowerGate:\n",
    "    def __init__(self, power):\n",
    "        self.x = None\n",
    "        self.power = power\n",
    "\n",
    "    def forward(self, x):\n",
    "        self.x = x\n",
    "        return x ** self.power\n",
    "    \n",
    "    def backward(self, d_out):\n",
    "        return d_out * self.power * (self.x ** (self.power - 1))"
   ]
  },
  {
   "cell_type": "code",
   "execution_count": 4,
   "metadata": {},
   "outputs": [],
   "source": [
    "w = 2\n",
    "b = 8\n",
    "x = -2\n",
    "y = 2\n",
    "\n",
    "# Forward propagation\n",
    "multiply_gate1 = MultiplyGate()\n",
    "multiply_gate2 = MultiplyGate()\n",
    "add_gate1 = AddGate()\n",
    "add_gate2 = AddGate()\n",
    "power_gate = PowerGate(2)"
   ]
  },
  {
   "cell_type": "markdown",
   "metadata": {},
   "source": [
    "## Forward propagation"
   ]
  },
  {
   "cell_type": "code",
   "execution_count": null,
   "metadata": {},
   "outputs": [
    {
     "name": "stdout",
     "output_type": "stream",
     "text": [
      "Loss: 2.0\n"
     ]
    }
   ],
   "source": [
    "# Node 1: Compute c = w * x\n",
    "c = multiply_gate1.forward(w, x)\n",
    "\n",
    "# Node 2: Compute a = c + b\n",
    "a = add_gate1.forward(c, b)\n",
    "\n",
    "# Node 3: Compute d = a - y\n",
    "d = add_gate2.forward(a, -y)\n",
    "\n",
    "# Node 4: Compute e = d^2\n",
    "e = power_gate.forward(d)\n",
    "\n",
    "# Node 5: Compute J = 0.5 * e\n",
    "J = multiply_gate2.forward(0.5, e)\n",
    "print(f\"Loss: {J}\")"
   ]
  },
  {
   "cell_type": "markdown",
   "metadata": {},
   "source": [
    "## Backward propagation"
   ]
  },
  {
   "cell_type": "code",
   "execution_count": 7,
   "metadata": {},
   "outputs": [
    {
     "name": "stdout",
     "output_type": "stream",
     "text": [
      "A =  0.5\n",
      "B =  2.0\n",
      "C =  2.0\n",
      "D =  2.0\n",
      "E =  2.0\n",
      "F =  -4.0\n"
     ]
    }
   ],
   "source": [
    "# Node 5\n",
    "_, A = multiply_gate2.backward(1)\n",
    "print(\"A = \", A)\n",
    "\n",
    "# Node 4\n",
    "B = power_gate.backward(A)\n",
    "print(\"B = \", B)\n",
    "\n",
    "# Node 3\n",
    "C, _ = add_gate1.backward(B)\n",
    "print(\"C = \", C)\n",
    "\n",
    "# Node 2\n",
    "D, E = add_gate1.backward(B)\n",
    "print(\"D = \", D)\n",
    "print(\"E = \", E)\n",
    "\n",
    "# Node 1\n",
    "F, _ = multiply_gate1.backward(D)\n",
    "print(\"F = \", F)"
   ]
  }
 ],
 "metadata": {
  "kernelspec": {
   "display_name": ".venv",
   "language": "python",
   "name": "python3"
  },
  "language_info": {
   "codemirror_mode": {
    "name": "ipython",
    "version": 3
   },
   "file_extension": ".py",
   "mimetype": "text/x-python",
   "name": "python",
   "nbconvert_exporter": "python",
   "pygments_lexer": "ipython3",
   "version": "3.12.7"
  }
 },
 "nbformat": 4,
 "nbformat_minor": 2
}
