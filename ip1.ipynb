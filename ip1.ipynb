{
 "cells": [
  {
   "cell_type": "code",
   "execution_count": 6,
   "metadata": {},
   "outputs": [
    {
     "data": {
      "text/plain": [
       "'nam hom nay bi om. nam muon xin phep co nghi hoc 7 ngay.'"
      ]
     },
     "execution_count": 6,
     "metadata": {},
     "output_type": "execute_result"
    }
   ],
   "source": [
    "x = 'Nam|Hom|Nay|Bi|Om.|Nam|Muon|Xin|Phep|Co|Nghi|Hoc|7|Ngay.'\n",
    "y = x.replace('|', ' ').lower()\n",
    "y"
   ]
  },
  {
   "cell_type": "code",
   "execution_count": 8,
   "metadata": {},
   "outputs": [
    {
     "name": "stdout",
     "output_type": "stream",
     "text": [
      "{'Object': 'Python', 'Mark': 10, 'Student': 'NguyenVanNam', 'Male': True, 'City': 'HoChiMinh'}\n",
      "{'Object': 'Python', 'Mark': 10, 'Student': 'NguyenVanNam', 'Male': False, 'City': 'HoChiMinh'}\n",
      "dict_keys(['Object', 'Mark', 'Student', 'Male', 'City'])\n",
      "dict_values(['Python', 10, 'NguyenVanNam', False, 'HoChiMinh'])\n"
     ]
    }
   ],
   "source": [
    "# Object: 'Python'\n",
    "# Mark: 10\n",
    "# Student: 'NguyenVanNam'\n",
    "# Male: True\n",
    "# City: 'HoChiMinh'\n",
    "\n",
    "d = {'Object': 'Python', 'Mark': 10, 'Student': 'NguyenVanNam', 'Male': True, 'City': 'HoChiMinh'}\n",
    "print(d)\n",
    "d['Male'] = False\n",
    "print(d)\n",
    "print(d.keys())\n",
    "print(d.values())"
   ]
  },
  {
   "cell_type": "code",
   "execution_count": 27,
   "metadata": {},
   "outputs": [
    {
     "data": {
      "text/plain": [
       "'0011334455'"
      ]
     },
     "execution_count": 27,
     "metadata": {},
     "output_type": "execute_result"
    }
   ],
   "source": [
    "n = 5\n",
    "m = 2\n",
    "\n",
    "mySet = set(range(0, n+1))\n",
    "if m in mySet: \n",
    "    mySet.remove(m)\n",
    "\n",
    "result = ''\n",
    "for x in mySet: \n",
    "    result += str(x) + str(x)\n",
    "\n",
    "result"
   ]
  },
  {
   "cell_type": "code",
   "execution_count": 24,
   "metadata": {},
   "outputs": [
    {
     "name": "stdout",
     "output_type": "stream",
     "text": [
      "-1\n"
     ]
    }
   ],
   "source": [
    "a = float(input().strip())\n",
    "b = float(input().strip())\n",
    "\n",
    "if a == b: \n",
    "    print(-1)\n",
    "else: \n",
    "    print(max(a,b))"
   ]
  },
  {
   "cell_type": "code",
   "execution_count": 29,
   "metadata": {},
   "outputs": [
    {
     "name": "stdout",
     "output_type": "stream",
     "text": [
      "24\n"
     ]
    }
   ],
   "source": [
    "a = 3\n",
    "b = 9\n",
    "\n",
    "sum = 0\n",
    "for x in range(a, b+1):\n",
    "    if x % 2 == 1: sum += x\n",
    "\n",
    "print(sum)"
   ]
  },
  {
   "cell_type": "code",
   "execution_count": 36,
   "metadata": {},
   "outputs": [
    {
     "name": "stdout",
     "output_type": "stream",
     "text": [
      "[6, 12, 18, 24, 30, 36, 42, 48, 54, 60, 66, 72, 78, 84, 90, 96]\n"
     ]
    }
   ],
   "source": [
    "n = int(input().strip())\n",
    "result = [x for x in range(1, 100) if x % n == 0]\n",
    "print(result)"
   ]
  },
  {
   "cell_type": "code",
   "execution_count": 37,
   "metadata": {},
   "outputs": [
    {
     "name": "stdout",
     "output_type": "stream",
     "text": [
      "10 20\n",
      "11 19\n",
      "12 18\n",
      "13 17\n",
      "14 16\n",
      "15 15\n",
      "16 14\n",
      "17 13\n",
      "18 12\n",
      "19 11\n",
      "20 10\n"
     ]
    }
   ],
   "source": [
    "n = int(input().strip())\n",
    "\n",
    "for a in range(0, n+1):\n",
    "    for b in range(0, n+1):\n",
    "        if a + b == int(1.5 * n):\n",
    "            print(f\"{a} {b}\")"
   ]
  },
  {
   "cell_type": "code",
   "execution_count": 51,
   "metadata": {},
   "outputs": [
    {
     "name": "stdout",
     "output_type": "stream",
     "text": [
      "Given string: You Are Apple In My Eye\n",
      "Number of uppercase letters: 6\n",
      "Number of lowercase letters: 12\n"
     ]
    }
   ],
   "source": [
    "P1 = input().strip()\n",
    "P2 = [1 for c in P1 if c.isupper()].count(1)\n",
    "P3 = [1 for c in P1 if c.islower()].count(1)\n",
    "\n",
    "print(f\"Given string: {P1}\")\n",
    "print(f\"Number of uppercase letters: {P2}\")\n",
    "print(f\"Number of lowercase letters: {P3}\")"
   ]
  },
  {
   "cell_type": "code",
   "execution_count": 48,
   "metadata": {},
   "outputs": [
    {
     "name": "stdout",
     "output_type": "stream",
     "text": [
      "12\n"
     ]
    }
   ],
   "source": [
    "P1 = \"You Are Apple In My Eye\"\n",
    "P2 = [1 for c in s if c.isupper()].count(1))\n",
    "P3 = [1 for c in s if c.islower()].count(1))"
   ]
  },
  {
   "cell_type": "code",
   "execution_count": 56,
   "metadata": {},
   "outputs": [],
   "source": [
    "import numpy as np\n",
    "import math"
   ]
  },
  {
   "cell_type": "code",
   "execution_count": 59,
   "metadata": {},
   "outputs": [
    {
     "name": "stdout",
     "output_type": "stream",
     "text": [
      "ABC\n"
     ]
    }
   ],
   "source": [
    "print(\"abc\".upper())"
   ]
  }
 ],
 "metadata": {
  "kernelspec": {
   "display_name": "Python 3",
   "language": "python",
   "name": "python3"
  },
  "language_info": {
   "codemirror_mode": {
    "name": "ipython",
    "version": 3
   },
   "file_extension": ".py",
   "mimetype": "text/x-python",
   "name": "python",
   "nbconvert_exporter": "python",
   "pygments_lexer": "ipython3",
   "version": "3.12.3"
  }
 },
 "nbformat": 4,
 "nbformat_minor": 2
}
